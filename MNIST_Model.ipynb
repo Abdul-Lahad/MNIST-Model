{
  "nbformat": 4,
  "nbformat_minor": 0,
  "metadata": {
    "colab": {
      "provenance": [],
      "gpuType": "T4",
      "authorship_tag": "ABX9TyOkVFZ7pkTMRtvci5myE0WD",
      "include_colab_link": true
    },
    "kernelspec": {
      "name": "python3",
      "display_name": "Python 3"
    },
    "language_info": {
      "name": "python"
    },
    "accelerator": "GPU"
  },
  "cells": [
    {
      "cell_type": "markdown",
      "metadata": {
        "id": "view-in-github",
        "colab_type": "text"
      },
      "source": [
        "<a href=\"https://colab.research.google.com/github/Abdul-Lahad/MNIST-Model/blob/main/MNIST_Model.ipynb\" target=\"_parent\"><img src=\"https://colab.research.google.com/assets/colab-badge.svg\" alt=\"Open In Colab\"/></a>"
      ]
    },
    {
      "cell_type": "code",
      "execution_count": 1,
      "metadata": {
        "id": "mDzQbWk7bsqr"
      },
      "outputs": [],
      "source": [
        "import torch\n",
        "import torch.nn as nn\n",
        "import torch.nn.functional as F\n",
        "import torch.optim as optim\n",
        "import torchvision\n",
        "import torchvision.transforms as transforms\n",
        "import matplotlib.pyplot as plt\n",
        "\n",
        "%matplotlib inline"
      ]
    },
    {
      "cell_type": "code",
      "source": [
        "# device config\n",
        "device = torch.device('cuda' if torch.cuda.is_available() else 'cpu')\n",
        "\n",
        "# hyper parameters\n",
        "input_size = 784 # 28x 28\n",
        "hidden_size = 100\n",
        "num_classes = 10\n",
        "num_epochs = 2\n",
        "learning_rate = 0.001\n",
        "batch_size = 150\n",
        "\n",
        "#MNIST dataset\n",
        "train_dataset = torchvision.datasets.MNIST(root='./data', train=True, transform=transforms.ToTensor(), download=True)\n",
        "test_dataset = torchvision.datasets.MNIST(root='./data', train=False, transform=transforms.ToTensor())\n",
        "\n",
        "train_loader = torch.utils.data.DataLoader(dataset=train_dataset, batch_size=batch_size, shuffle=True)\n",
        "test_loader = torch.utils.data.DataLoader(dataset=test_dataset, batch_size=batch_size, shuffle=False)\n",
        "\n",
        "examples = iter(train_loader)\n",
        "batch = next(examples)\n",
        "samples, labels = batch\n",
        "print(samples.shape, labels.shape)"
      ],
      "metadata": {
        "colab": {
          "base_uri": "https://localhost:8080/"
        },
        "id": "VkpqtuLdnHZi",
        "outputId": "af6c282f-7294-42b9-a4ec-f67dd0c15c31"
      },
      "execution_count": 10,
      "outputs": [
        {
          "output_type": "stream",
          "name": "stdout",
          "text": [
            "torch.Size([150, 1, 28, 28]) torch.Size([150])\n"
          ]
        }
      ]
    },
    {
      "cell_type": "code",
      "source": [
        "#Ploting the Image\n",
        "for i in range(6):\n",
        "    plt.subplot(2,3,i+1) # 2: Number of rows in the grid.\n",
        "                         # 3: Number of columns in the grid.\n",
        "                         # i + 1: The position of the subplot within the grid (1-indexed).\n",
        "    plt.imshow(samples[i][0],cmap='gray')\n",
        "\n",
        "plt.show()"
      ],
      "metadata": {
        "colab": {
          "base_uri": "https://localhost:8080/",
          "height": 411
        },
        "id": "_ixfK2KPqmiY",
        "outputId": "52bb12dd-d1e1-4364-c021-ba42d81937d4"
      },
      "execution_count": 3,
      "outputs": [
        {
          "output_type": "display_data",
          "data": {
            "text/plain": [
              "<Figure size 640x480 with 6 Axes>"
            ],
            "image/png": "[encoded data removed]"
          },
          "metadata": {}
        }
      ]
    },
    {
      "cell_type": "code",
      "source": [
        "#Neural Network\n",
        "class NeuralNet(nn.Module):\n",
        "    def __init__(self, input_size, hidden_size, num_classes):\n",
        "        super(NeuralNet, self).__init__()\n",
        "        self.l1 = nn.Linear(input_size,hidden_size)\n",
        "        self.relu = nn.ReLU()\n",
        "        self.l2 = nn.Linear(hidden_size, num_classes)\n",
        "\n",
        "    def forward(self,x):\n",
        "        out = self.l1(x)\n",
        "        out = self.relu(out)\n",
        "        out = self.l2(out)\n",
        "        return out\n",
        "\n",
        "model = NeuralNet(input_size, hidden_size, num_classes)\n",
        "model.to(device)"
      ],
      "metadata": {
        "colab": {
          "base_uri": "https://localhost:8080/"
        },
        "id": "AgxZR-ruupyT",
        "outputId": "fa44c60c-253b-4444-a3b6-94486a1c2ee1"
      },
      "execution_count": 4,
      "outputs": [
        {
          "output_type": "execute_result",
          "data": {
            "text/plain": [
              "NeuralNet(\n",
              "  (l1): Linear(in_features=784, out_features=100, bias=True)\n",
              "  (relu): ReLU()\n",
              "  (l2): Linear(in_features=100, out_features=10, bias=True)\n",
              ")"
            ]
          },
          "metadata": {},
          "execution_count": 4
        }
      ]
    },
    {
      "cell_type": "code",
      "source": [
        "#loss and optimizer\n",
        "criterion = nn.CrossEntropyLoss()\n",
        "optimizer = optim.Adam(model.parameters(), lr=learning_rate)"
      ],
      "metadata": {
        "id": "aG0Z4FhNxWgx"
      },
      "execution_count": 5,
      "outputs": []
    },
    {
      "cell_type": "code",
      "source": [
        "#training loop\n",
        "n_total_steps = len(train_loader)\n",
        "print(\"training start\")\n",
        "for epoch in range(num_epochs):\n",
        "    for i, (images, labels) in enumerate(train_loader):\n",
        "        # 100, 1, 28,28\n",
        "        # 100,784\n",
        "        images = images.reshape(-1,28*28).to(device)\n",
        "        labels = labels.to(device)\n",
        "\n",
        "        #forward\n",
        "        outputs = model(images)\n",
        "\n",
        "        loss = criterion(outputs, labels)\n",
        "\n",
        "        #backwards\n",
        "        optimizer.zero_grad()\n",
        "        loss.backward()\n",
        "        optimizer.step()\n",
        "\n",
        "        if (i+1) % 100 == 0:\n",
        "          print(f'epoch {epoch+1}/{num_epochs}, step {i+1}/{n_total_steps}, loss = {loss.item():.4f}')\n",
        "\n",
        "print(\"training done\")"
      ],
      "metadata": {
        "colab": {
          "base_uri": "https://localhost:8080/"
        },
        "id": "3iyaXn5O6B5E",
        "outputId": "63bc3240-c61d-477c-f648-a45a5595eb11"
      },
      "execution_count": 11,
      "outputs": [
        {
          "output_type": "stream",
          "name": "stdout",
          "text": [
            "training start\n",
            "epoch 1/2, step 100/400, loss = 0.1001\n",
            "epoch 1/2, step 200/400, loss = 0.0451\n",
            "epoch 1/2, step 300/400, loss = 0.1264\n",
            "epoch 1/2, step 400/400, loss = 0.0606\n",
            "epoch 2/2, step 100/400, loss = 0.1227\n",
            "epoch 2/2, step 200/400, loss = 0.0900\n",
            "epoch 2/2, step 300/400, loss = 0.0429\n",
            "epoch 2/2, step 400/400, loss = 0.0943\n",
            "training done\n"
          ]
        }
      ]
    },
    {
      "cell_type": "code",
      "source": [
        "#test\n",
        "with torch.no_grad():\n",
        "  n_correct = 0\n",
        "  n_samples = 0\n",
        "  for images, labels in test_loader:\n",
        "    images = images.reshape(-1, 28*28).to(device)\n",
        "    labels = labels.to(device)\n",
        "    outputs = model(images)\n",
        "\n",
        "    #value, index\n",
        "    _, predictions = torch.max(outputs, 1)\n",
        "    n_samples += labels.shape[0] # labels row is 1\n",
        "    n_correct += (predictions == labels).sum().item()\n",
        "\n",
        "  acc = 100.0 * n_correct / n_samples\n",
        "  print(f'accuracy = {acc}')"
      ],
      "metadata": {
        "colab": {
          "base_uri": "https://localhost:8080/"
        },
        "id": "hW17dNNX76Ub",
        "outputId": "dac3a175-1f91-4dc1-a2fa-fca91d0423e0"
      },
      "execution_count": 12,
      "outputs": [
        {
          "output_type": "stream",
          "name": "stdout",
          "text": [
            "accuracy = 97.24\n"
          ]
        }
      ]
    },
    {
      "cell_type": "code",
      "source": [
        "# Test with the single example\n",
        "\n",
        "test_examples = iter(test_loader)\n",
        "test_batch = next(examples)\n",
        "test_samples, test_labels = batch\n",
        "\n",
        "test1_sample = test_samples[50].reshape(-1,28*28).to(device)\n",
        "test1_label = test_labels[50].to(device)\n",
        "test1_output = model(test1_sample)\n",
        "print(test1_output)\n",
        "\n",
        "_, test1_prediction = torch.max(test1_output, 1)\n",
        "print(\"Predidted number : \", test1_prediction.item())\n",
        "\n",
        "#Ploting the Image\n",
        "plt.subplot(2,3,1)\n",
        "plt.imshow(test_samples[50][0],cmap='gray')\n",
        "plt.show()\n"
      ],
      "metadata": {
        "colab": {
          "base_uri": "https://localhost:8080/",
          "height": 278
        },
        "id": "KXFUW5vKHS0w",
        "outputId": "0167492a-10f8-4631-f2e3-4118e7936bec"
      },
      "execution_count": 13,
      "outputs": [
        {
          "output_type": "stream",
          "name": "stdout",
          "text": [
            "tensor([[-11.7516,  -8.2552,  -3.0398,  -0.1219,  -0.2045,  -8.9499,  -9.3534,\n",
            "          -3.9796,  -0.0488,   3.5130]], device='cuda:0',\n",
            "       grad_fn=<AddmmBackward0>)\n",
            "Predidted number :  9\n"
          ]
        },
        {
          "output_type": "display_data",
          "data": {
            "text/plain": [
              "<Figure size 640x480 with 1 Axes>"
            ],
            "image/png": "[encoded data removed]"
          },
          "metadata": {}
        }
      ]
    },
    {
      "cell_type": "code",
      "source": [
        "\n",
        "torch.save(model.state_dict(), 'model.pth')"
      ],
      "metadata": {
        "id": "z8rUWL06OBOn"
      },
      "execution_count": 15,
      "outputs": []
    },
    {
      "cell_type": "code",
      "source": [],
      "metadata": {
        "id": "eyEUg08ppjql"
      },
      "execution_count": null,
      "outputs": []
    }
  ]
}